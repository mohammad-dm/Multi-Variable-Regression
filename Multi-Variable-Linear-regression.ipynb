{
 "cells": [
  {
   "cell_type": "code",
   "execution_count": 1,
   "metadata": {},
   "outputs": [],
   "source": [
    "from collections import namedtuple\n",
    "import numpy as np"
   ]
  },
  {
   "cell_type": "code",
   "execution_count": 2,
   "metadata": {},
   "outputs": [],
   "source": [
    "House = namedtuple ('House',['size','bedroom','price'])"
   ]
  },
  {
   "cell_type": "code",
   "execution_count": 3,
   "metadata": {},
   "outputs": [],
   "source": [
    "def row_parser (row):\n",
    "    splitted = row.strip().split(',')\n",
    "    my_house = House ( float ( splitted[0] ), int ( splitted[1] ), float ( splitted[2] ) )\n",
    "    return my_house\n",
    "\n",
    "def reader ():\n",
    "    houses = []\n",
    "    with open ('ex1data2.txt', 'r') as f:\n",
    "        for row in f:\n",
    "            house = row_parser (row)\n",
    "            houses.append (house)\n",
    "    house_size = np.array ( [house.size for house in houses] )\n",
    "    house_bedroom = np.array ( [house.bedroom for house in houses] )\n",
    "    house_price = np.array ( [house.price for house in houses] )\n",
    "    return house_size, house_bedroom, house_price"
   ]
  },
  {
   "cell_type": "code",
   "execution_count": 4,
   "metadata": {},
   "outputs": [],
   "source": [
    "house_size, house_bedroom, house_price =  reader ()"
   ]
  },
  {
   "cell_type": "code",
   "execution_count": 5,
   "metadata": {
    "scrolled": true
   },
   "outputs": [
    {
     "data": {
      "image/png": "[encoded data removed]",
      "text/plain": [
       "<Figure size 432x288 with 2 Axes>"
      ]
     },
     "metadata": {
      "needs_background": "light"
     },
     "output_type": "display_data"
    }
   ],
   "source": [
    "import matplotlib.pyplot as plt\n",
    "fig, (ax1, ax2) = plt.subplots(1, 2)\n",
    "ax1.scatter (house_size, house_price)\n",
    "ax1.set_xlabel('house size', fontsize=16)\n",
    "ax1.set_ylabel('house price', fontsize=16)\n",
    "ax2.scatter (house_bedroom, house_price)\n",
    "ax2.set_xlabel('bedroom', fontsize=16)\n",
    "ax2.set_ylabel('house price', fontsize=16)\n",
    "plt.tight_layout()"
   ]
  },
  {
   "cell_type": "markdown",
   "metadata": {},
   "source": [
    "Feature Scaling"
   ]
  },
  {
   "cell_type": "code",
   "execution_count": 6,
   "metadata": {},
   "outputs": [],
   "source": [
    "X = np.array ([house_size,house_bedroom])"
   ]
  },
  {
   "cell_type": "code",
   "execution_count": 7,
   "metadata": {},
   "outputs": [],
   "source": [
    "def X_normalize (X, add_1 = 1):\n",
    "    \"\"\"\n",
    "    feature is a numpy array of input data Then\n",
    "    Puts X in a general format \n",
    "    Adds 1 (constant column) to the features\n",
    "    You can control adding constant using add_1\n",
    "    \"\"\"\n",
    "    #Warning: We do not scale y\n",
    "    mean = np.mean (X, axis=1).reshape (2,1)\n",
    "    std = np.std (X, axis=1).reshape (2,1)\n",
    "    X_norm = (X - mean) / std\n",
    "    X_norm = X_norm.transpose()\n",
    "    if add_1 == 1 :\n",
    "        one = np.ones( (X_norm.shape[0],1) )\n",
    "        X_norm = np.concatenate([one,X_norm],axis = 1)\n",
    "    return X_norm\n",
    "X_norm = X_normalize (X)"
   ]
  },
  {
   "cell_type": "code",
   "execution_count": 8,
   "metadata": {},
   "outputs": [
    {
     "data": {
      "image/png": "[encoded data removed]",
      "text/plain": [
       "<Figure size 432x288 with 2 Axes>"
      ]
     },
     "metadata": {
      "needs_background": "light"
     },
     "output_type": "display_data"
    }
   ],
   "source": [
    "fig, (ax1, ax2) = plt.subplots(1, 2)\n",
    "ax1.scatter (X_norm [:,1], house_price)\n",
    "ax1.set_xlabel('house size', fontsize=16)\n",
    "ax1.set_ylabel('house price', fontsize=16)\n",
    "ax2.scatter (X_norm [:,2], house_price)\n",
    "ax2.set_xlabel('bedroom', fontsize=16)\n",
    "ax2.set_ylabel('house price', fontsize=16)\n",
    "plt.tight_layout()"
   ]
  },
  {
   "cell_type": "code",
   "execution_count": 9,
   "metadata": {},
   "outputs": [],
   "source": [
    "def cost_function (X, theta, y):\n",
    "#     m = len (X[0])\n",
    "#     cost = 0\n",
    "#     for i in range (m):\n",
    "#         h_theta = h_theta_func (X, theta, i)\n",
    "#         cost += 1 / ( 2 * m ) * ( h_theta - y[i] ) ** 2\n",
    "    y_hat = X@theta\n",
    "    squared_error = sum ( (y_hat - y) ** 2)\n",
    "    cost = 1 / ( 2 * X.shape[0] ) * squared_error\n",
    "    return cost\n"
   ]
  },
  {
   "cell_type": "code",
   "execution_count": 18,
   "metadata": {},
   "outputs": [],
   "source": [
    "Y = np.array (house_price)\n",
    "Y = Y.reshape(Y.shape[0],1)"
   ]
  },
  {
   "cell_type": "code",
   "execution_count": 19,
   "metadata": {},
   "outputs": [],
   "source": [
    "def gradient_descent (X, theta, Y, alpha=0.1, iterations=1500):\n",
    "    costs = []\n",
    "    for counter in range (iterations):\n",
    "        #m is number of columns in X\n",
    "        m = X.shape[0]\n",
    "        #Calculating yhat for all the points in X\n",
    "        h_theta = X@theta\n",
    "        #Storing the difference between estimation and the labels in diff\n",
    "        diff = h_theta - Y\n",
    "        sums = []\n",
    "        #Calculating Sigma(i=1 until m) [ (hθ(x(i)) − y(i))x( ji) ] (j=1,..,number of columns in X )\n",
    "        for i in range(X[0].shape[0]):\n",
    "            X_i = X[:,i].reshape((X.shape[0],1))\n",
    "            sum_ = (diff.transpose() @ X_i)[0][0]\n",
    "            sums.append(sum_)\n",
    "        #Updating theta\n",
    "        new_theta = []\n",
    "        for i,sum_ in enumerate (sums):\n",
    "            new_theta.append( [theta[i][0]-alpha*(1/m)*sum_])\n",
    "        cost = cost_function (X, new_theta, Y)[0]\n",
    "        costs.append(cost)\n",
    "        theta = new_theta\n",
    "    return theta,costs\n",
    "\n"
   ]
  },
  {
   "cell_type": "code",
   "execution_count": 93,
   "metadata": {},
   "outputs": [],
   "source": [
    "#Choosing the appropriate learning rate\n",
    "iterations = 400\n",
    "initial_theta = np.array([0,0,0]).reshape(3,1)\n",
    "alphas = [0.01,0.05,0.1,0.15,0.2,0.16]\n",
    "costs_alpha = []\n",
    "for alpha in alphas:\n",
    "    theta,costs = gradient_descent (X_norm, initial_theta, Y, alpha, iterations)\n",
    "    costs_alpha.append ( [alpha,costs] )"
   ]
  },
  {
   "cell_type": "code",
   "execution_count": 94,
   "metadata": {},
   "outputs": [
    {
     "data": {
      "image/png": "[encoded data removed]",
      "text/plain": [
       "<Figure size 432x288 with 1 Axes>"
      ]
     },
     "metadata": {
      "needs_background": "light"
     },
     "output_type": "display_data"
    }
   ],
   "source": [
    "plt.plot(range(0,iterations), costs_alpha[0][1],label='alpha='+str(costs_alpha[0][0]))\n",
    "plt.plot(range(0,iterations), costs_alpha[1][1],label='alpha='+str(costs_alpha[1][0]))\n",
    "plt.plot(range(0,iterations), costs_alpha[2][1],label='alpha='+str(costs_alpha[2][0]))\n",
    "plt.plot(range(0,iterations), costs_alpha[3][1],label='alpha='+str(costs_alpha[3][0]))\n",
    "plt.plot(range(0,iterations), costs_alpha[4][1],label='alpha='+str(costs_alpha[4][0]))\n",
    "plt.plot(range(0,iterations), costs_alpha[5][1],label='alpha='+str(costs_alpha[5][0]))\n",
    "plt.legend()\n",
    "plt.show()"
   ]
  },
  {
   "cell_type": "code",
   "execution_count": 95,
   "metadata": {},
   "outputs": [],
   "source": [
    "alpha = 0.01\n",
    "theta,costs = gradient_descent (X_norm, initial_theta, Y, alpha, iterations)"
   ]
  },
  {
   "cell_type": "code",
   "execution_count": 96,
   "metadata": {},
   "outputs": [
    {
     "name": "stdout",
     "output_type": "stream",
     "text": [
      "min costs is 2105448288.6292472\n"
     ]
    },
    {
     "data": {
      "image/png": "[encoded data removed]",
      "text/plain": [
       "<Figure size 432x288 with 1 Axes>"
      ]
     },
     "metadata": {
      "needs_background": "light"
     },
     "output_type": "display_data"
    }
   ],
   "source": [
    "plt.plot ( range(0,iterations) ,costs)\n",
    "plt.xlabel ('iteration')\n",
    "plt.ylabel ('cost')\n",
    "print (f'min costs is {min (costs)}')"
   ]
  },
  {
   "cell_type": "code",
   "execution_count": 97,
   "metadata": {},
   "outputs": [],
   "source": [
    "def predict (theta,x):\n",
    "    y_hat = x @ theta\n",
    "    return y_hat"
   ]
  },
  {
   "cell_type": "code",
   "execution_count": 98,
   "metadata": {},
   "outputs": [],
   "source": [
    "def test_data_normalize (test_X, X, add_1=1):\n",
    "    \"\"\"\n",
    "    Normalizes trial test_data according to the \n",
    "    mean and std of the training dataset\n",
    "    \"\"\"\n",
    "    mean = np.mean (X, axis=1).reshape (2,1)\n",
    "    std = np.std (X, axis=1).reshape (2,1)\n",
    "    test_X_norm = (test_X - mean) / std\n",
    "    test_X_norm = test_X_norm.transpose()\n",
    "    if add_1 == 1 :\n",
    "        one = np.ones( (test_X_norm.shape[0],1) )\n",
    "        X_norm = np.concatenate([one,test_X_norm],axis = 1)\n",
    "    return X_norm"
   ]
  },
  {
   "cell_type": "code",
   "execution_count": 100,
   "metadata": {},
   "outputs": [
    {
     "name": "stdout",
     "output_type": "stream",
     "text": [
      "[[ 1.00000000e+00 -5.09640698e-01 -2.26093368e-01]\n",
      " [ 1.00000000e+00 -2.55253349e-01 -2.26093368e-01]\n",
      " [ 1.00000000e+00 -8.65999486e-04 -2.26093368e-01]\n",
      " [ 1.00000000e+00  2.53521350e-01 -2.26093368e-01]]\n"
     ]
    },
    {
     "data": {
      "text/plain": [
       "array([[282899.29359696],\n",
       "       [308188.30869399],\n",
       "       [333477.32379102],\n",
       "       [358766.33888805]])"
      ]
     },
     "execution_count": 100,
     "metadata": {},
     "output_type": "execute_result"
    }
   ],
   "source": [
    "test_X = [[1600,1800,2000,2200],[3,3,3,3]]\n",
    "test_X_norm = test_data_normalize(test_X, X)\n",
    "print (test_X_norm)\n",
    "predict (theta,test_X_norm)"
   ]
  },
  {
   "cell_type": "code",
   "execution_count": null,
   "metadata": {},
   "outputs": [],
   "source": []
  },
  {
   "cell_type": "code",
   "execution_count": null,
   "metadata": {},
   "outputs": [],
   "source": []
  }
 ],
 "metadata": {
  "kernelspec": {
   "display_name": "Python 3",
   "language": "python",
   "name": "python3"
  },
  "language_info": {
   "codemirror_mode": {
    "name": "ipython",
    "version": 3
   },
   "file_extension": ".py",
   "mimetype": "text/x-python",
   "name": "python",
   "nbconvert_exporter": "python",
   "pygments_lexer": "ipython3",
   "version": "3.8.3"
  }
 },
 "nbformat": 4,
 "nbformat_minor": 4
}
